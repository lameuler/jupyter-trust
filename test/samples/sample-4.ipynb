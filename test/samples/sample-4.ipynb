{
    "cells": [
        {
            "cell_type": "markdown",
            "metadata": {},
            "source": "# Keyboard Shortcut Customization"
        },
        {
            "cell_type": "markdown",
            "metadata": {},
            "source": "You can customize the `command` mode shortcuts from within the Notebook Application itself. \n\nHead to the **Settings** menu and select the **Settings Editor** item.\nA dialog will guide you through the process of adding custom keyboard shortcuts.\n\nKeyboard shortcut set from within the Notebook Application will be persisted to your configuration file. \nA single action may have several shortcuts attached to it."
        }
    ],
    "metadata": {
        "kernelspec": {
            "display_name": "Python 3",
            "language": "python",
            "name": "python3"
        },
        "language_info": {
            "codemirror_mode": {
                "name": "ipython",
                "version": 3
            },
            "file_extension": ".py",
            "mimetype": "text/x-python",
            "name": "python",
            "nbconvert_exporter": "python",
            "pygments_lexer": "ipython3",
            "version": "3.5.2"
        },
        "nbsphinx": {
            "execute": "never"
        }
    },
    "nbformat": 4,
    "nbformat_minor": 1
}